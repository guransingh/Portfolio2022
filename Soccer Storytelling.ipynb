{
 "cells": [
  {
   "cell_type": "code",
   "execution_count": 2,
   "id": "5e4b1793",
   "metadata": {},
   "outputs": [],
   "source": [
    "import pandas as pd\n",
    "import numpy as np\n",
    "import matplotlib.pyplot as plt\n",
    "import datetime"
   ]
  },
  {
   "cell_type": "code",
   "execution_count": 3,
   "id": "9d291078",
   "metadata": {},
   "outputs": [],
   "source": [
    "df=pd.read_csv('/Users/guransingh/Library/CloudStorage/OneDrive-Personal/Documents/Work/Python Notebooks/Python Notebooks/CSVData/Soccerresults.csv')\n",
    "countrydf=pd.read_csv('/Users/guransingh/Library/CloudStorage/OneDrive-Personal/Documents/Work/Python Notebooks/Python Notebooks/CSVData/countrydata.csv')"
   ]
  },
  {
   "cell_type": "markdown",
   "id": "465b4829",
   "metadata": {},
   "source": [
    "### Questions to Explore\n",
    "\n",
    "What are the total number of games per decade?  \n",
    "Breakup of games by competition (friendly, WC, Euros, etc). \n",
    "what % of games are friendlies?  \n",
    "Who has played/lost/won the most games? what about before and after 1990?  (DONE)  \n",
    "What is the most frequent matchup?  \n",
    "Does home team advantage exist? (Done)\n",
    "Which team has best/worse away record?  \n",
    "Which team has best/worse neutral record?  \n",
    "which team has best/worse home record?\n",
    "How often do matchups take place within own jurisdiction and how often outside? (european vs european team, etc)  \n",
    "Do european teams win more often against South america or vice versa?  \n",
    "What is the averag goals scored/conceded/goal difference by decade?"
   ]
  },
  {
   "cell_type": "markdown",
   "id": "07df482e",
   "metadata": {},
   "source": [
    "### Preliminary inspection"
   ]
  },
  {
   "cell_type": "code",
   "execution_count": 4,
   "id": "e9fb0027",
   "metadata": {
    "scrolled": true
   },
   "outputs": [
    {
     "data": {
      "text/html": [
       "<div>\n",
       "<style scoped>\n",
       "    .dataframe tbody tr th:only-of-type {\n",
       "        vertical-align: middle;\n",
       "    }\n",
       "\n",
       "    .dataframe tbody tr th {\n",
       "        vertical-align: top;\n",
       "    }\n",
       "\n",
       "    .dataframe thead th {\n",
       "        text-align: right;\n",
       "    }\n",
       "</style>\n",
       "<table border=\"1\" class=\"dataframe\">\n",
       "  <thead>\n",
       "    <tr style=\"text-align: right;\">\n",
       "      <th></th>\n",
       "      <th>date</th>\n",
       "      <th>home_team</th>\n",
       "      <th>away_team</th>\n",
       "      <th>home_score</th>\n",
       "      <th>away_score</th>\n",
       "      <th>tournament</th>\n",
       "      <th>city</th>\n",
       "      <th>country</th>\n",
       "      <th>neutral</th>\n",
       "    </tr>\n",
       "  </thead>\n",
       "  <tbody>\n",
       "    <tr>\n",
       "      <th>0</th>\n",
       "      <td>1872-11-30</td>\n",
       "      <td>Scotland</td>\n",
       "      <td>England</td>\n",
       "      <td>0</td>\n",
       "      <td>0</td>\n",
       "      <td>Friendly</td>\n",
       "      <td>Glasgow</td>\n",
       "      <td>Scotland</td>\n",
       "      <td>False</td>\n",
       "    </tr>\n",
       "    <tr>\n",
       "      <th>1</th>\n",
       "      <td>1873-03-08</td>\n",
       "      <td>England</td>\n",
       "      <td>Scotland</td>\n",
       "      <td>4</td>\n",
       "      <td>2</td>\n",
       "      <td>Friendly</td>\n",
       "      <td>London</td>\n",
       "      <td>England</td>\n",
       "      <td>False</td>\n",
       "    </tr>\n",
       "  </tbody>\n",
       "</table>\n",
       "</div>"
      ],
      "text/plain": [
       "         date home_team away_team  home_score  away_score tournament     city  \\\n",
       "0  1872-11-30  Scotland   England           0           0   Friendly  Glasgow   \n",
       "1  1873-03-08   England  Scotland           4           2   Friendly   London   \n",
       "\n",
       "    country  neutral  \n",
       "0  Scotland    False  \n",
       "1   England    False  "
      ]
     },
     "execution_count": 4,
     "metadata": {},
     "output_type": "execute_result"
    }
   ],
   "source": [
    "df.head(2)"
   ]
  },
  {
   "cell_type": "markdown",
   "id": "b79541db",
   "metadata": {},
   "source": [
    "First, lets check the rows X column"
   ]
  },
  {
   "cell_type": "code",
   "execution_count": 5,
   "id": "17242634",
   "metadata": {},
   "outputs": [
    {
     "data": {
      "text/plain": [
       "(43752, 9)"
      ]
     },
     "execution_count": 5,
     "metadata": {},
     "output_type": "execute_result"
    }
   ],
   "source": [
    "df.shape"
   ]
  },
  {
   "cell_type": "markdown",
   "id": "e7b5ad7f",
   "metadata": {},
   "source": [
    "Then, lets check the type of each object, look for null/missing values"
   ]
  },
  {
   "cell_type": "code",
   "execution_count": 6,
   "id": "aadf6dc2",
   "metadata": {},
   "outputs": [
    {
     "name": "stdout",
     "output_type": "stream",
     "text": [
      "<class 'pandas.core.frame.DataFrame'>\n",
      "RangeIndex: 43752 entries, 0 to 43751\n",
      "Data columns (total 9 columns):\n",
      " #   Column      Non-Null Count  Dtype \n",
      "---  ------      --------------  ----- \n",
      " 0   date        43752 non-null  object\n",
      " 1   home_team   43752 non-null  object\n",
      " 2   away_team   43752 non-null  object\n",
      " 3   home_score  43752 non-null  int64 \n",
      " 4   away_score  43752 non-null  int64 \n",
      " 5   tournament  43752 non-null  object\n",
      " 6   city        43752 non-null  object\n",
      " 7   country     43752 non-null  object\n",
      " 8   neutral     43752 non-null  bool  \n",
      "dtypes: bool(1), int64(2), object(6)\n",
      "memory usage: 2.7+ MB\n"
     ]
    }
   ],
   "source": [
    "df.info()"
   ]
  },
  {
   "cell_type": "markdown",
   "id": "9acd0f50",
   "metadata": {},
   "source": [
    "No null types. Good news.\n",
    "Date is a string, we will make the date the index and change its format to datetime"
   ]
  },
  {
   "cell_type": "code",
   "execution_count": 7,
   "id": "fafdd7f3",
   "metadata": {},
   "outputs": [],
   "source": [
    "df['date']=pd.to_datetime(df['date'])"
   ]
  },
  {
   "cell_type": "code",
   "execution_count": 8,
   "id": "75e5be77",
   "metadata": {},
   "outputs": [],
   "source": [
    "df=df.set_index('date')"
   ]
  },
  {
   "cell_type": "markdown",
   "id": "99b31ffc",
   "metadata": {},
   "source": [
    "### Add some more columns to get new useful variables\n",
    "\n",
    "Define function whowon which will be added as an indicator of the winning team"
   ]
  },
  {
   "cell_type": "code",
   "execution_count": 9,
   "id": "f804c665",
   "metadata": {},
   "outputs": [],
   "source": [
    "def whowon(row):\n",
    "    if row['home_score'] < row['away_score']:\n",
    "        val = 'A'\n",
    "    elif row['home_score'] > row['away_score']:\n",
    "        val = 'H'\n",
    "    else:\n",
    "        val = 'D'\n",
    "    return(val)"
   ]
  },
  {
   "cell_type": "code",
   "execution_count": 10,
   "id": "6cd7fc2c",
   "metadata": {},
   "outputs": [],
   "source": [
    "df['winner']=df.apply(whowon,axis=1)"
   ]
  },
  {
   "cell_type": "code",
   "execution_count": 11,
   "id": "b72af4a3",
   "metadata": {
    "scrolled": true
   },
   "outputs": [
    {
     "data": {
      "text/html": [
       "<div>\n",
       "<style scoped>\n",
       "    .dataframe tbody tr th:only-of-type {\n",
       "        vertical-align: middle;\n",
       "    }\n",
       "\n",
       "    .dataframe tbody tr th {\n",
       "        vertical-align: top;\n",
       "    }\n",
       "\n",
       "    .dataframe thead th {\n",
       "        text-align: right;\n",
       "    }\n",
       "</style>\n",
       "<table border=\"1\" class=\"dataframe\">\n",
       "  <thead>\n",
       "    <tr style=\"text-align: right;\">\n",
       "      <th></th>\n",
       "      <th>home_team</th>\n",
       "      <th>away_team</th>\n",
       "      <th>home_score</th>\n",
       "      <th>away_score</th>\n",
       "      <th>tournament</th>\n",
       "      <th>city</th>\n",
       "      <th>country</th>\n",
       "      <th>neutral</th>\n",
       "      <th>winner</th>\n",
       "    </tr>\n",
       "    <tr>\n",
       "      <th>date</th>\n",
       "      <th></th>\n",
       "      <th></th>\n",
       "      <th></th>\n",
       "      <th></th>\n",
       "      <th></th>\n",
       "      <th></th>\n",
       "      <th></th>\n",
       "      <th></th>\n",
       "      <th></th>\n",
       "    </tr>\n",
       "  </thead>\n",
       "  <tbody>\n",
       "    <tr>\n",
       "      <th>1872-11-30</th>\n",
       "      <td>Scotland</td>\n",
       "      <td>England</td>\n",
       "      <td>0</td>\n",
       "      <td>0</td>\n",
       "      <td>Friendly</td>\n",
       "      <td>Glasgow</td>\n",
       "      <td>Scotland</td>\n",
       "      <td>False</td>\n",
       "      <td>D</td>\n",
       "    </tr>\n",
       "  </tbody>\n",
       "</table>\n",
       "</div>"
      ],
      "text/plain": [
       "           home_team away_team  home_score  away_score tournament     city  \\\n",
       "date                                                                         \n",
       "1872-11-30  Scotland   England           0           0   Friendly  Glasgow   \n",
       "\n",
       "             country  neutral winner  \n",
       "date                                  \n",
       "1872-11-30  Scotland    False      D  "
      ]
     },
     "execution_count": 11,
     "metadata": {},
     "output_type": "execute_result"
    }
   ],
   "source": [
    "df.head(1)"
   ]
  },
  {
   "cell_type": "markdown",
   "id": "dca0864e",
   "metadata": {},
   "source": [
    "Lets also add the winning country name"
   ]
  },
  {
   "cell_type": "code",
   "execution_count": 12,
   "id": "d1a3661e",
   "metadata": {},
   "outputs": [],
   "source": [
    "def wincountry(row):\n",
    "    if row['home_score'] < row['away_score']:\n",
    "        val = row['away_team']\n",
    "    elif row['home_score'] > row['away_score']:\n",
    "        val = row['home_team']\n",
    "    else:\n",
    "        val = 'D'\n",
    "    return(val)\n",
    "\n",
    "def losecountry(row):\n",
    "    if row['home_score'] < row['away_score']:\n",
    "        val = row['home_team']\n",
    "    elif row['home_score'] > row['away_score']:\n",
    "        val = row['away_team']\n",
    "    else:\n",
    "        val = 'D'\n",
    "    return(val)"
   ]
  },
  {
   "cell_type": "code",
   "execution_count": 13,
   "id": "5de28f81",
   "metadata": {},
   "outputs": [],
   "source": [
    "df['WinCountry']=df.apply(wincountry,axis=1)\n",
    "df['LoseCountry']=df.apply(losecountry,axis=1)"
   ]
  },
  {
   "cell_type": "code",
   "execution_count": 14,
   "id": "a8d9a278",
   "metadata": {},
   "outputs": [
    {
     "data": {
      "text/html": [
       "<div>\n",
       "<style scoped>\n",
       "    .dataframe tbody tr th:only-of-type {\n",
       "        vertical-align: middle;\n",
       "    }\n",
       "\n",
       "    .dataframe tbody tr th {\n",
       "        vertical-align: top;\n",
       "    }\n",
       "\n",
       "    .dataframe thead th {\n",
       "        text-align: right;\n",
       "    }\n",
       "</style>\n",
       "<table border=\"1\" class=\"dataframe\">\n",
       "  <thead>\n",
       "    <tr style=\"text-align: right;\">\n",
       "      <th></th>\n",
       "      <th>home_team</th>\n",
       "      <th>away_team</th>\n",
       "      <th>home_score</th>\n",
       "      <th>away_score</th>\n",
       "      <th>tournament</th>\n",
       "      <th>city</th>\n",
       "      <th>country</th>\n",
       "      <th>neutral</th>\n",
       "      <th>winner</th>\n",
       "      <th>WinCountry</th>\n",
       "      <th>LoseCountry</th>\n",
       "    </tr>\n",
       "    <tr>\n",
       "      <th>date</th>\n",
       "      <th></th>\n",
       "      <th></th>\n",
       "      <th></th>\n",
       "      <th></th>\n",
       "      <th></th>\n",
       "      <th></th>\n",
       "      <th></th>\n",
       "      <th></th>\n",
       "      <th></th>\n",
       "      <th></th>\n",
       "      <th></th>\n",
       "    </tr>\n",
       "  </thead>\n",
       "  <tbody>\n",
       "    <tr>\n",
       "      <th>1872-11-30</th>\n",
       "      <td>Scotland</td>\n",
       "      <td>England</td>\n",
       "      <td>0</td>\n",
       "      <td>0</td>\n",
       "      <td>Friendly</td>\n",
       "      <td>Glasgow</td>\n",
       "      <td>Scotland</td>\n",
       "      <td>False</td>\n",
       "      <td>D</td>\n",
       "      <td>D</td>\n",
       "      <td>D</td>\n",
       "    </tr>\n",
       "    <tr>\n",
       "      <th>1873-03-08</th>\n",
       "      <td>England</td>\n",
       "      <td>Scotland</td>\n",
       "      <td>4</td>\n",
       "      <td>2</td>\n",
       "      <td>Friendly</td>\n",
       "      <td>London</td>\n",
       "      <td>England</td>\n",
       "      <td>False</td>\n",
       "      <td>H</td>\n",
       "      <td>England</td>\n",
       "      <td>Scotland</td>\n",
       "    </tr>\n",
       "    <tr>\n",
       "      <th>1874-03-07</th>\n",
       "      <td>Scotland</td>\n",
       "      <td>England</td>\n",
       "      <td>2</td>\n",
       "      <td>1</td>\n",
       "      <td>Friendly</td>\n",
       "      <td>Glasgow</td>\n",
       "      <td>Scotland</td>\n",
       "      <td>False</td>\n",
       "      <td>H</td>\n",
       "      <td>Scotland</td>\n",
       "      <td>England</td>\n",
       "    </tr>\n",
       "    <tr>\n",
       "      <th>1875-03-06</th>\n",
       "      <td>England</td>\n",
       "      <td>Scotland</td>\n",
       "      <td>2</td>\n",
       "      <td>2</td>\n",
       "      <td>Friendly</td>\n",
       "      <td>London</td>\n",
       "      <td>England</td>\n",
       "      <td>False</td>\n",
       "      <td>D</td>\n",
       "      <td>D</td>\n",
       "      <td>D</td>\n",
       "    </tr>\n",
       "    <tr>\n",
       "      <th>1876-03-04</th>\n",
       "      <td>Scotland</td>\n",
       "      <td>England</td>\n",
       "      <td>3</td>\n",
       "      <td>0</td>\n",
       "      <td>Friendly</td>\n",
       "      <td>Glasgow</td>\n",
       "      <td>Scotland</td>\n",
       "      <td>False</td>\n",
       "      <td>H</td>\n",
       "      <td>Scotland</td>\n",
       "      <td>England</td>\n",
       "    </tr>\n",
       "    <tr>\n",
       "      <th>1876-03-25</th>\n",
       "      <td>Scotland</td>\n",
       "      <td>Wales</td>\n",
       "      <td>4</td>\n",
       "      <td>0</td>\n",
       "      <td>Friendly</td>\n",
       "      <td>Glasgow</td>\n",
       "      <td>Scotland</td>\n",
       "      <td>False</td>\n",
       "      <td>H</td>\n",
       "      <td>Scotland</td>\n",
       "      <td>Wales</td>\n",
       "    </tr>\n",
       "    <tr>\n",
       "      <th>1877-03-03</th>\n",
       "      <td>England</td>\n",
       "      <td>Scotland</td>\n",
       "      <td>1</td>\n",
       "      <td>3</td>\n",
       "      <td>Friendly</td>\n",
       "      <td>London</td>\n",
       "      <td>England</td>\n",
       "      <td>False</td>\n",
       "      <td>A</td>\n",
       "      <td>Scotland</td>\n",
       "      <td>England</td>\n",
       "    </tr>\n",
       "    <tr>\n",
       "      <th>1877-03-05</th>\n",
       "      <td>Wales</td>\n",
       "      <td>Scotland</td>\n",
       "      <td>0</td>\n",
       "      <td>2</td>\n",
       "      <td>Friendly</td>\n",
       "      <td>Wrexham</td>\n",
       "      <td>Wales</td>\n",
       "      <td>False</td>\n",
       "      <td>A</td>\n",
       "      <td>Scotland</td>\n",
       "      <td>Wales</td>\n",
       "    </tr>\n",
       "    <tr>\n",
       "      <th>1878-03-02</th>\n",
       "      <td>Scotland</td>\n",
       "      <td>England</td>\n",
       "      <td>7</td>\n",
       "      <td>2</td>\n",
       "      <td>Friendly</td>\n",
       "      <td>Glasgow</td>\n",
       "      <td>Scotland</td>\n",
       "      <td>False</td>\n",
       "      <td>H</td>\n",
       "      <td>Scotland</td>\n",
       "      <td>England</td>\n",
       "    </tr>\n",
       "    <tr>\n",
       "      <th>1878-03-23</th>\n",
       "      <td>Scotland</td>\n",
       "      <td>Wales</td>\n",
       "      <td>9</td>\n",
       "      <td>0</td>\n",
       "      <td>Friendly</td>\n",
       "      <td>Glasgow</td>\n",
       "      <td>Scotland</td>\n",
       "      <td>False</td>\n",
       "      <td>H</td>\n",
       "      <td>Scotland</td>\n",
       "      <td>Wales</td>\n",
       "    </tr>\n",
       "  </tbody>\n",
       "</table>\n",
       "</div>"
      ],
      "text/plain": [
       "           home_team away_team  home_score  away_score tournament     city  \\\n",
       "date                                                                         \n",
       "1872-11-30  Scotland   England           0           0   Friendly  Glasgow   \n",
       "1873-03-08   England  Scotland           4           2   Friendly   London   \n",
       "1874-03-07  Scotland   England           2           1   Friendly  Glasgow   \n",
       "1875-03-06   England  Scotland           2           2   Friendly   London   \n",
       "1876-03-04  Scotland   England           3           0   Friendly  Glasgow   \n",
       "1876-03-25  Scotland     Wales           4           0   Friendly  Glasgow   \n",
       "1877-03-03   England  Scotland           1           3   Friendly   London   \n",
       "1877-03-05     Wales  Scotland           0           2   Friendly  Wrexham   \n",
       "1878-03-02  Scotland   England           7           2   Friendly  Glasgow   \n",
       "1878-03-23  Scotland     Wales           9           0   Friendly  Glasgow   \n",
       "\n",
       "             country  neutral winner WinCountry LoseCountry  \n",
       "date                                                         \n",
       "1872-11-30  Scotland    False      D          D           D  \n",
       "1873-03-08   England    False      H    England    Scotland  \n",
       "1874-03-07  Scotland    False      H   Scotland     England  \n",
       "1875-03-06   England    False      D          D           D  \n",
       "1876-03-04  Scotland    False      H   Scotland     England  \n",
       "1876-03-25  Scotland    False      H   Scotland       Wales  \n",
       "1877-03-03   England    False      A   Scotland     England  \n",
       "1877-03-05     Wales    False      A   Scotland       Wales  \n",
       "1878-03-02  Scotland    False      H   Scotland     England  \n",
       "1878-03-23  Scotland    False      H   Scotland       Wales  "
      ]
     },
     "execution_count": 14,
     "metadata": {},
     "output_type": "execute_result"
    }
   ],
   "source": [
    "df.head(10)"
   ]
  },
  {
   "cell_type": "markdown",
   "id": "bea7871c",
   "metadata": {},
   "source": [
    "Add 2 additional columns for year and month that the match took place"
   ]
  },
  {
   "cell_type": "code",
   "execution_count": 15,
   "id": "b919e48a",
   "metadata": {},
   "outputs": [],
   "source": [
    "df['year']=pd.DatetimeIndex(df.index).year\n",
    "df['month']=pd.DatetimeIndex(df.index).month"
   ]
  },
  {
   "cell_type": "code",
   "execution_count": 16,
   "id": "0ba84fa9",
   "metadata": {
    "scrolled": true
   },
   "outputs": [
    {
     "data": {
      "text/html": [
       "<div>\n",
       "<style scoped>\n",
       "    .dataframe tbody tr th:only-of-type {\n",
       "        vertical-align: middle;\n",
       "    }\n",
       "\n",
       "    .dataframe tbody tr th {\n",
       "        vertical-align: top;\n",
       "    }\n",
       "\n",
       "    .dataframe thead th {\n",
       "        text-align: right;\n",
       "    }\n",
       "</style>\n",
       "<table border=\"1\" class=\"dataframe\">\n",
       "  <thead>\n",
       "    <tr style=\"text-align: right;\">\n",
       "      <th></th>\n",
       "      <th>home_team</th>\n",
       "      <th>away_team</th>\n",
       "      <th>home_score</th>\n",
       "      <th>away_score</th>\n",
       "      <th>tournament</th>\n",
       "      <th>city</th>\n",
       "      <th>country</th>\n",
       "      <th>neutral</th>\n",
       "      <th>winner</th>\n",
       "      <th>WinCountry</th>\n",
       "      <th>LoseCountry</th>\n",
       "      <th>year</th>\n",
       "      <th>month</th>\n",
       "    </tr>\n",
       "    <tr>\n",
       "      <th>date</th>\n",
       "      <th></th>\n",
       "      <th></th>\n",
       "      <th></th>\n",
       "      <th></th>\n",
       "      <th></th>\n",
       "      <th></th>\n",
       "      <th></th>\n",
       "      <th></th>\n",
       "      <th></th>\n",
       "      <th></th>\n",
       "      <th></th>\n",
       "      <th></th>\n",
       "      <th></th>\n",
       "    </tr>\n",
       "  </thead>\n",
       "  <tbody>\n",
       "    <tr>\n",
       "      <th>1872-11-30</th>\n",
       "      <td>Scotland</td>\n",
       "      <td>England</td>\n",
       "      <td>0</td>\n",
       "      <td>0</td>\n",
       "      <td>Friendly</td>\n",
       "      <td>Glasgow</td>\n",
       "      <td>Scotland</td>\n",
       "      <td>False</td>\n",
       "      <td>D</td>\n",
       "      <td>D</td>\n",
       "      <td>D</td>\n",
       "      <td>1872</td>\n",
       "      <td>11</td>\n",
       "    </tr>\n",
       "    <tr>\n",
       "      <th>1873-03-08</th>\n",
       "      <td>England</td>\n",
       "      <td>Scotland</td>\n",
       "      <td>4</td>\n",
       "      <td>2</td>\n",
       "      <td>Friendly</td>\n",
       "      <td>London</td>\n",
       "      <td>England</td>\n",
       "      <td>False</td>\n",
       "      <td>H</td>\n",
       "      <td>England</td>\n",
       "      <td>Scotland</td>\n",
       "      <td>1873</td>\n",
       "      <td>3</td>\n",
       "    </tr>\n",
       "  </tbody>\n",
       "</table>\n",
       "</div>"
      ],
      "text/plain": [
       "           home_team away_team  home_score  away_score tournament     city  \\\n",
       "date                                                                         \n",
       "1872-11-30  Scotland   England           0           0   Friendly  Glasgow   \n",
       "1873-03-08   England  Scotland           4           2   Friendly   London   \n",
       "\n",
       "             country  neutral winner WinCountry LoseCountry  year  month  \n",
       "date                                                                      \n",
       "1872-11-30  Scotland    False      D          D           D  1872     11  \n",
       "1873-03-08   England    False      H    England    Scotland  1873      3  "
      ]
     },
     "execution_count": 16,
     "metadata": {},
     "output_type": "execute_result"
    }
   ],
   "source": [
    "df.head(2)"
   ]
  },
  {
   "cell_type": "markdown",
   "id": "812df02e",
   "metadata": {},
   "source": [
    "Add a column for goal difference"
   ]
  },
  {
   "cell_type": "code",
   "execution_count": 17,
   "id": "5e7d8cdf",
   "metadata": {},
   "outputs": [],
   "source": [
    "df['diff_score']=abs(df['home_score']-df['away_score'])"
   ]
  },
  {
   "cell_type": "code",
   "execution_count": 18,
   "id": "6c53e699",
   "metadata": {},
   "outputs": [
    {
     "data": {
      "text/html": [
       "<div>\n",
       "<style scoped>\n",
       "    .dataframe tbody tr th:only-of-type {\n",
       "        vertical-align: middle;\n",
       "    }\n",
       "\n",
       "    .dataframe tbody tr th {\n",
       "        vertical-align: top;\n",
       "    }\n",
       "\n",
       "    .dataframe thead th {\n",
       "        text-align: right;\n",
       "    }\n",
       "</style>\n",
       "<table border=\"1\" class=\"dataframe\">\n",
       "  <thead>\n",
       "    <tr style=\"text-align: right;\">\n",
       "      <th></th>\n",
       "      <th>home_team</th>\n",
       "      <th>away_team</th>\n",
       "      <th>home_score</th>\n",
       "      <th>away_score</th>\n",
       "      <th>tournament</th>\n",
       "      <th>city</th>\n",
       "      <th>country</th>\n",
       "      <th>neutral</th>\n",
       "      <th>winner</th>\n",
       "      <th>WinCountry</th>\n",
       "      <th>LoseCountry</th>\n",
       "      <th>year</th>\n",
       "      <th>month</th>\n",
       "      <th>diff_score</th>\n",
       "    </tr>\n",
       "    <tr>\n",
       "      <th>date</th>\n",
       "      <th></th>\n",
       "      <th></th>\n",
       "      <th></th>\n",
       "      <th></th>\n",
       "      <th></th>\n",
       "      <th></th>\n",
       "      <th></th>\n",
       "      <th></th>\n",
       "      <th></th>\n",
       "      <th></th>\n",
       "      <th></th>\n",
       "      <th></th>\n",
       "      <th></th>\n",
       "      <th></th>\n",
       "    </tr>\n",
       "  </thead>\n",
       "  <tbody>\n",
       "    <tr>\n",
       "      <th>1872-11-30</th>\n",
       "      <td>Scotland</td>\n",
       "      <td>England</td>\n",
       "      <td>0</td>\n",
       "      <td>0</td>\n",
       "      <td>Friendly</td>\n",
       "      <td>Glasgow</td>\n",
       "      <td>Scotland</td>\n",
       "      <td>False</td>\n",
       "      <td>D</td>\n",
       "      <td>D</td>\n",
       "      <td>D</td>\n",
       "      <td>1872</td>\n",
       "      <td>11</td>\n",
       "      <td>0</td>\n",
       "    </tr>\n",
       "    <tr>\n",
       "      <th>1873-03-08</th>\n",
       "      <td>England</td>\n",
       "      <td>Scotland</td>\n",
       "      <td>4</td>\n",
       "      <td>2</td>\n",
       "      <td>Friendly</td>\n",
       "      <td>London</td>\n",
       "      <td>England</td>\n",
       "      <td>False</td>\n",
       "      <td>H</td>\n",
       "      <td>England</td>\n",
       "      <td>Scotland</td>\n",
       "      <td>1873</td>\n",
       "      <td>3</td>\n",
       "      <td>2</td>\n",
       "    </tr>\n",
       "  </tbody>\n",
       "</table>\n",
       "</div>"
      ],
      "text/plain": [
       "           home_team away_team  home_score  away_score tournament     city  \\\n",
       "date                                                                         \n",
       "1872-11-30  Scotland   England           0           0   Friendly  Glasgow   \n",
       "1873-03-08   England  Scotland           4           2   Friendly   London   \n",
       "\n",
       "             country  neutral winner WinCountry LoseCountry  year  month  \\\n",
       "date                                                                       \n",
       "1872-11-30  Scotland    False      D          D           D  1872     11   \n",
       "1873-03-08   England    False      H    England    Scotland  1873      3   \n",
       "\n",
       "            diff_score  \n",
       "date                    \n",
       "1872-11-30           0  \n",
       "1873-03-08           2  "
      ]
     },
     "execution_count": 18,
     "metadata": {},
     "output_type": "execute_result"
    }
   ],
   "source": [
    "df.head(2)"
   ]
  },
  {
   "cell_type": "markdown",
   "id": "8b0d1251",
   "metadata": {},
   "source": [
    "### Use Grouping to summarize matches by Country"
   ]
  },
  {
   "cell_type": "markdown",
   "id": "0bdca9b8",
   "metadata": {},
   "source": [
    "Lets calculate the # of games by country. Lets do some grouping first"
   ]
  },
  {
   "cell_type": "code",
   "execution_count": 19,
   "id": "02567774",
   "metadata": {},
   "outputs": [
    {
     "data": {
      "text/plain": [
       "home_team\n",
       "Abkhazia          18\n",
       "Afghanistan       42\n",
       "Albania          187\n",
       "Alderney           7\n",
       "Algeria          300\n",
       "                ... \n",
       "Yugoslavia       190\n",
       "Zambia           311\n",
       "Zanzibar          58\n",
       "Zimbabwe         200\n",
       "Åland Islands     27\n",
       "Name: away_team, Length: 306, dtype: int64"
      ]
     },
     "execution_count": 19,
     "metadata": {},
     "output_type": "execute_result"
    }
   ],
   "source": [
    "df.groupby('home_team')['away_team'].count()"
   ]
  },
  {
   "cell_type": "code",
   "execution_count": 20,
   "id": "93f87053",
   "metadata": {},
   "outputs": [
    {
     "data": {
      "text/plain": [
       "<AxesSubplot:>"
      ]
     },
     "execution_count": 20,
     "metadata": {},
     "output_type": "execute_result"
    },
    {
     "data": {
      "image/png": "[encoded data removed]",
      "text/plain": [
       "<Figure size 432x288 with 1 Axes>"
      ]
     },
     "metadata": {
      "needs_background": "light"
     },
     "output_type": "display_data"
    }
   ],
   "source": [
    "(df.value_counts('home_team')+df.value_counts('away_team')).nlargest(10).plot.bar()"
   ]
  },
  {
   "cell_type": "code",
   "execution_count": 21,
   "id": "a461ed28",
   "metadata": {},
   "outputs": [
    {
     "data": {
      "text/plain": [
       "away_team\n",
       "Abkhazia          10\n",
       "Afghanistan       79\n",
       "Albania          169\n",
       "Alderney          12\n",
       "Algeria          228\n",
       "                ... \n",
       "Yugoslavia       291\n",
       "Zambia           435\n",
       "Zanzibar         147\n",
       "Zimbabwe         280\n",
       "Åland Islands     19\n",
       "Name: home_team, Length: 303, dtype: int64"
      ]
     },
     "execution_count": 21,
     "metadata": {},
     "output_type": "execute_result"
    }
   ],
   "source": [
    "df.groupby('away_team')['home_team'].count()"
   ]
  },
  {
   "cell_type": "markdown",
   "id": "e1588c6c",
   "metadata": {},
   "source": [
    "One way to calculate total games is to add the 2 series above"
   ]
  },
  {
   "cell_type": "code",
   "execution_count": 22,
   "id": "6f6d2156",
   "metadata": {},
   "outputs": [
    {
     "data": {
      "text/plain": [
       "Abkhazia          28.0\n",
       "Afghanistan      121.0\n",
       "Albania          356.0\n",
       "Alderney          19.0\n",
       "Algeria          528.0\n",
       "                 ...  \n",
       "Yugoslavia       481.0\n",
       "Zambia           746.0\n",
       "Zanzibar         205.0\n",
       "Zimbabwe         480.0\n",
       "Åland Islands     46.0\n",
       "Length: 310, dtype: float64"
      ]
     },
     "execution_count": 22,
     "metadata": {},
     "output_type": "execute_result"
    }
   ],
   "source": [
    "df.groupby('home_team')['away_team'].count()+df.groupby('away_team')['home_team'].count()"
   ]
  },
  {
   "cell_type": "markdown",
   "id": "1bb6c20f",
   "metadata": {},
   "source": [
    "But the home and away team information is lost. Another way is to concat the 2 series."
   ]
  },
  {
   "cell_type": "code",
   "execution_count": 23,
   "id": "18edeef5",
   "metadata": {},
   "outputs": [],
   "source": [
    "totalmatches = pd.concat([df.groupby('away_team')['home_team'].count(), df.groupby('home_team')['away_team'].count()],axis=1)"
   ]
  },
  {
   "cell_type": "code",
   "execution_count": 24,
   "id": "52c36223",
   "metadata": {},
   "outputs": [
    {
     "data": {
      "text/html": [
       "<div>\n",
       "<style scoped>\n",
       "    .dataframe tbody tr th:only-of-type {\n",
       "        vertical-align: middle;\n",
       "    }\n",
       "\n",
       "    .dataframe tbody tr th {\n",
       "        vertical-align: top;\n",
       "    }\n",
       "\n",
       "    .dataframe thead th {\n",
       "        text-align: right;\n",
       "    }\n",
       "</style>\n",
       "<table border=\"1\" class=\"dataframe\">\n",
       "  <thead>\n",
       "    <tr style=\"text-align: right;\">\n",
       "      <th></th>\n",
       "      <th>home_team</th>\n",
       "      <th>away_team</th>\n",
       "    </tr>\n",
       "  </thead>\n",
       "  <tbody>\n",
       "    <tr>\n",
       "      <th>Abkhazia</th>\n",
       "      <td>10.0</td>\n",
       "      <td>18.0</td>\n",
       "    </tr>\n",
       "    <tr>\n",
       "      <th>Afghanistan</th>\n",
       "      <td>79.0</td>\n",
       "      <td>42.0</td>\n",
       "    </tr>\n",
       "    <tr>\n",
       "      <th>Albania</th>\n",
       "      <td>169.0</td>\n",
       "      <td>187.0</td>\n",
       "    </tr>\n",
       "    <tr>\n",
       "      <th>Alderney</th>\n",
       "      <td>12.0</td>\n",
       "      <td>7.0</td>\n",
       "    </tr>\n",
       "    <tr>\n",
       "      <th>Algeria</th>\n",
       "      <td>228.0</td>\n",
       "      <td>300.0</td>\n",
       "    </tr>\n",
       "    <tr>\n",
       "      <th>...</th>\n",
       "      <td>...</td>\n",
       "      <td>...</td>\n",
       "    </tr>\n",
       "    <tr>\n",
       "      <th>Madrid</th>\n",
       "      <td>NaN</td>\n",
       "      <td>1.0</td>\n",
       "    </tr>\n",
       "    <tr>\n",
       "      <th>Niue</th>\n",
       "      <td>NaN</td>\n",
       "      <td>2.0</td>\n",
       "    </tr>\n",
       "    <tr>\n",
       "      <th>Palau</th>\n",
       "      <td>NaN</td>\n",
       "      <td>2.0</td>\n",
       "    </tr>\n",
       "    <tr>\n",
       "      <th>Republic of St. Pauli</th>\n",
       "      <td>NaN</td>\n",
       "      <td>4.0</td>\n",
       "    </tr>\n",
       "    <tr>\n",
       "      <th>Silesia</th>\n",
       "      <td>NaN</td>\n",
       "      <td>8.0</td>\n",
       "    </tr>\n",
       "  </tbody>\n",
       "</table>\n",
       "<p>310 rows × 2 columns</p>\n",
       "</div>"
      ],
      "text/plain": [
       "                       home_team  away_team\n",
       "Abkhazia                    10.0       18.0\n",
       "Afghanistan                 79.0       42.0\n",
       "Albania                    169.0      187.0\n",
       "Alderney                    12.0        7.0\n",
       "Algeria                    228.0      300.0\n",
       "...                          ...        ...\n",
       "Madrid                       NaN        1.0\n",
       "Niue                         NaN        2.0\n",
       "Palau                        NaN        2.0\n",
       "Republic of St. Pauli        NaN        4.0\n",
       "Silesia                      NaN        8.0\n",
       "\n",
       "[310 rows x 2 columns]"
      ]
     },
     "execution_count": 24,
     "metadata": {},
     "output_type": "execute_result"
    }
   ],
   "source": [
    "totalmatches"
   ]
  },
  {
   "cell_type": "markdown",
   "id": "5feef3b1",
   "metadata": {},
   "source": [
    "Lets count the the # of NAs, then lets drop the NAs"
   ]
  },
  {
   "cell_type": "code",
   "execution_count": 25,
   "id": "f57f3ef6",
   "metadata": {},
   "outputs": [
    {
     "data": {
      "text/plain": [
       "home_team    7\n",
       "away_team    4\n",
       "dtype: int64"
      ]
     },
     "execution_count": 25,
     "metadata": {},
     "output_type": "execute_result"
    }
   ],
   "source": [
    "totalmatches.isna().sum()"
   ]
  },
  {
   "cell_type": "code",
   "execution_count": 26,
   "id": "797b3ba2",
   "metadata": {},
   "outputs": [],
   "source": [
    "totalmatches.dropna(inplace=True)"
   ]
  },
  {
   "cell_type": "markdown",
   "id": "7c0b5905",
   "metadata": {},
   "source": [
    "Lets add a third column to get total matches played."
   ]
  },
  {
   "cell_type": "code",
   "execution_count": 27,
   "id": "1037edc0",
   "metadata": {},
   "outputs": [],
   "source": [
    "totalmatches['total']=totalmatches['home_team']+totalmatches['away_team']"
   ]
  },
  {
   "cell_type": "code",
   "execution_count": 28,
   "id": "ae643b20",
   "metadata": {},
   "outputs": [
    {
     "data": {
      "text/html": [
       "<div>\n",
       "<style scoped>\n",
       "    .dataframe tbody tr th:only-of-type {\n",
       "        vertical-align: middle;\n",
       "    }\n",
       "\n",
       "    .dataframe tbody tr th {\n",
       "        vertical-align: top;\n",
       "    }\n",
       "\n",
       "    .dataframe thead th {\n",
       "        text-align: right;\n",
       "    }\n",
       "</style>\n",
       "<table border=\"1\" class=\"dataframe\">\n",
       "  <thead>\n",
       "    <tr style=\"text-align: right;\">\n",
       "      <th></th>\n",
       "      <th>home_team</th>\n",
       "      <th>away_team</th>\n",
       "      <th>total</th>\n",
       "    </tr>\n",
       "  </thead>\n",
       "  <tbody>\n",
       "    <tr>\n",
       "      <th>Abkhazia</th>\n",
       "      <td>10.0</td>\n",
       "      <td>18.0</td>\n",
       "      <td>28.0</td>\n",
       "    </tr>\n",
       "    <tr>\n",
       "      <th>Afghanistan</th>\n",
       "      <td>79.0</td>\n",
       "      <td>42.0</td>\n",
       "      <td>121.0</td>\n",
       "    </tr>\n",
       "  </tbody>\n",
       "</table>\n",
       "</div>"
      ],
      "text/plain": [
       "             home_team  away_team  total\n",
       "Abkhazia          10.0       18.0   28.0\n",
       "Afghanistan       79.0       42.0  121.0"
      ]
     },
     "execution_count": 28,
     "metadata": {},
     "output_type": "execute_result"
    }
   ],
   "source": [
    "totalmatches.head(2)"
   ]
  },
  {
   "cell_type": "markdown",
   "id": "a09e1a99",
   "metadata": {},
   "source": [
    "##### Exhibit A - Who has played the most matches?"
   ]
  },
  {
   "cell_type": "code",
   "execution_count": 29,
   "id": "2bd3e312",
   "metadata": {
    "scrolled": true
   },
   "outputs": [
    {
     "data": {
      "text/plain": [
       "Text(0.5, 0.98, '# of matches played')"
      ]
     },
     "execution_count": 29,
     "metadata": {},
     "output_type": "execute_result"
    },
    {
     "data": {
      "image/png": "[encoded data removed]",
      "text/plain": [
       "<Figure size 432x288 with 1 Axes>"
      ]
     },
     "metadata": {
      "needs_background": "light"
     },
     "output_type": "display_data"
    }
   ],
   "source": [
    "totalmatches.nlargest(10,'total')['total'].plot.bar()\n",
    "plt.suptitle('# of matches played',fontsize=15)"
   ]
  },
  {
   "cell_type": "markdown",
   "id": "a2851afc",
   "metadata": {},
   "source": [
    "We can do the same with value count"
   ]
  },
  {
   "cell_type": "code",
   "execution_count": 62,
   "id": "a742bd28",
   "metadata": {},
   "outputs": [
    {
     "data": {
      "text/plain": [
       "<AxesSubplot:>"
      ]
     },
     "execution_count": 62,
     "metadata": {},
     "output_type": "execute_result"
    },
    {
     "data": {
      "image/png": "[encoded data removed]",
      "text/plain": [
       "<Figure size 432x288 with 1 Axes>"
      ]
     },
     "metadata": {
      "needs_background": "light"
     },
     "output_type": "display_data"
    }
   ],
   "source": [
    "(df.value_counts('home_team')+df.value_counts('away_team')).nlargest(10).plot.bar()"
   ]
  },
  {
   "cell_type": "code",
   "execution_count": null,
   "id": "f3ac795c",
   "metadata": {},
   "outputs": [],
   "source": []
  },
  {
   "cell_type": "markdown",
   "id": "5e0e8ee1",
   "metadata": {},
   "source": [
    "##### Exhibit B - Does home team advantage exist?"
   ]
  },
  {
   "cell_type": "code",
   "execution_count": 31,
   "id": "e8116f3e",
   "metadata": {
    "scrolled": false
   },
   "outputs": [
    {
     "data": {
      "text/plain": [
       "winner\n",
       "A     8665\n",
       "D     7605\n",
       "H    16618\n",
       "Name: home_team, dtype: int64"
      ]
     },
     "execution_count": 31,
     "metadata": {},
     "output_type": "execute_result"
    }
   ],
   "source": [
    "df[df['neutral']==False].groupby(['winner'])['home_team'].count()"
   ]
  },
  {
   "cell_type": "code",
   "execution_count": 32,
   "id": "0bf4343f",
   "metadata": {},
   "outputs": [
    {
     "name": "stdout",
     "output_type": "stream",
     "text": [
      "Home teams won 50.5% of the time, Drawing 23.1%. This shows a significant home team advantage\n"
     ]
    }
   ],
   "source": [
    "\n",
    "print('Home teams won',str(round(16618/(16618+7605+8665)*100,1))+'% of the time, Drawing',str(round(7605/(16618+7605+8665)*100,1))+'%. This shows a significant home team advantage')"
   ]
  },
  {
   "cell_type": "code",
   "execution_count": 33,
   "id": "f0261433",
   "metadata": {},
   "outputs": [
    {
     "data": {
      "text/plain": [
       "Text(0.5, 0.98, '% of wins by home or away team')"
      ]
     },
     "execution_count": 33,
     "metadata": {},
     "output_type": "execute_result"
    },
    {
     "data": {
      "image/png": "[encoded data removed]",
      "text/plain": [
       "<Figure size 432x288 with 1 Axes>"
      ]
     },
     "metadata": {},
     "output_type": "display_data"
    }
   ],
   "source": [
    "df[df['neutral']==False].groupby(['winner'])['home_team'].count().plot.pie()\n",
    "plt.suptitle('% of wins by home or away team',fontsize=15)  "
   ]
  },
  {
   "cell_type": "markdown",
   "id": "e15a0e30",
   "metadata": {},
   "source": [
    "##### Exhibit C - Who has won the most number of games?"
   ]
  },
  {
   "cell_type": "code",
   "execution_count": 34,
   "id": "faae567f",
   "metadata": {},
   "outputs": [
    {
     "data": {
      "text/plain": [
       "Text(0.5, 0, 'Country')"
      ]
     },
     "execution_count": 34,
     "metadata": {},
     "output_type": "execute_result"
    },
    {
     "data": {
      "image/png": "[encoded data removed]",
      "text/plain": [
       "<Figure size 432x288 with 1 Axes>"
      ]
     },
     "metadata": {
      "needs_background": "light"
     },
     "output_type": "display_data"
    }
   ],
   "source": [
    "df[df['WinCountry']!='D'].groupby('WinCountry')['home_team'].count().nlargest(11).plot.bar()\n",
    "plt.suptitle('# of matches won',fontsize=15)\n",
    "plt.xlabel('Country')"
   ]
  },
  {
   "cell_type": "markdown",
   "id": "b66a15d7",
   "metadata": {},
   "source": [
    "Brazil has won the most number of matches, followed by England and Germany. These are all power houses of soccer, with extremely long match histories so this makes sense."
   ]
  },
  {
   "cell_type": "markdown",
   "id": "4b352661",
   "metadata": {},
   "source": [
    "##### Exhibit D - Which country has hosted the most number of games?"
   ]
  },
  {
   "cell_type": "code",
   "execution_count": 35,
   "id": "128f4c16",
   "metadata": {},
   "outputs": [
    {
     "data": {
      "text/plain": [
       "Text(0.5, 0.98, '# of matches hosted')"
      ]
     },
     "execution_count": 35,
     "metadata": {},
     "output_type": "execute_result"
    },
    {
     "data": {
      "image/png": "[encoded data removed]",
      "text/plain": [
       "<Figure size 432x288 with 1 Axes>"
      ]
     },
     "metadata": {
      "needs_background": "light"
     },
     "output_type": "display_data"
    }
   ],
   "source": [
    "df.groupby('country')['home_team'].count().nlargest(10).plot.barh()\n",
    "plt.suptitle('# of matches hosted',fontsize=15)"
   ]
  },
  {
   "cell_type": "markdown",
   "id": "262f7ed6",
   "metadata": {},
   "source": [
    "US has hosted the most number of games. Followed by France and Malaysia and England."
   ]
  },
  {
   "cell_type": "markdown",
   "id": "0166e5c6",
   "metadata": {},
   "source": [
    "Another way to do this is using value_count()"
   ]
  },
  {
   "cell_type": "code",
   "execution_count": 36,
   "id": "1a9f4fc5",
   "metadata": {},
   "outputs": [
    {
     "data": {
      "text/plain": [
       "<AxesSubplot:ylabel='country'>"
      ]
     },
     "execution_count": 36,
     "metadata": {},
     "output_type": "execute_result"
    },
    {
     "data": {
      "image/png": "[encoded data removed]",
      "text/plain": [
       "<Figure size 432x288 with 1 Axes>"
      ]
     },
     "metadata": {
      "needs_background": "light"
     },
     "output_type": "display_data"
    }
   ],
   "source": [
    "df.value_counts('country').nlargest(10).plot.barh()"
   ]
  },
  {
   "cell_type": "code",
   "execution_count": 37,
   "id": "975181e9",
   "metadata": {},
   "outputs": [
    {
     "data": {
      "text/plain": [
       "Text(0.5, 0.98, '# of matches played')"
      ]
     },
     "execution_count": 37,
     "metadata": {},
     "output_type": "execute_result"
    },
    {
     "data": {
      "image/png": "[encoded data removed]",
      "text/plain": [
       "<Figure size 432x288 with 1 Axes>"
      ]
     },
     "metadata": {
      "needs_background": "light"
     },
     "output_type": "display_data"
    }
   ],
   "source": [
    "df.groupby(['year'])['home_team'].count().plot()\n",
    "plt.suptitle('# of matches played',fontsize=15)"
   ]
  },
  {
   "cell_type": "markdown",
   "id": "8b609c43",
   "metadata": {},
   "source": [
    "There are dips in the world wars and covid"
   ]
  },
  {
   "cell_type": "markdown",
   "id": "3dd46d78",
   "metadata": {},
   "source": [
    "##### Exhibit E - Average and Standard Deviation of goals scored each year (Home, away, and differential)"
   ]
  },
  {
   "cell_type": "code",
   "execution_count": 38,
   "id": "9e505701",
   "metadata": {},
   "outputs": [
    {
     "data": {
      "text/plain": [
       "Text(0.5, 0.98, 'Average goals')"
      ]
     },
     "execution_count": 38,
     "metadata": {},
     "output_type": "execute_result"
    },
    {
     "data": {
      "image/png": "[encoded data removed]",
      "text/plain": [
       "<Figure size 432x288 with 3 Axes>"
      ]
     },
     "metadata": {
      "needs_background": "light"
     },
     "output_type": "display_data"
    }
   ],
   "source": [
    "df.groupby('year').mean().plot(y=['home_score','away_score','diff_score'],subplots=True)\n",
    "plt.suptitle('Average goals',fontsize=15)"
   ]
  },
  {
   "cell_type": "markdown",
   "id": "8911855f",
   "metadata": {},
   "source": [
    "Average goals score per year has been trending down, so has the goal difference"
   ]
  },
  {
   "cell_type": "code",
   "execution_count": 39,
   "id": "fb00ef85",
   "metadata": {},
   "outputs": [
    {
     "data": {
      "text/plain": [
       "Text(0.5, 0.98, 'Std of Goals')"
      ]
     },
     "execution_count": 39,
     "metadata": {},
     "output_type": "execute_result"
    },
    {
     "data": {
      "image/png": "[encoded data removed]",
      "text/plain": [
       "<Figure size 432x288 with 3 Axes>"
      ]
     },
     "metadata": {
      "needs_background": "light"
     },
     "output_type": "display_data"
    }
   ],
   "source": [
    "df.groupby('year').std().plot(y=['home_score','away_score','diff_score'],subplots=True)\n",
    "plt.suptitle('Std of Goals',fontsize=15)"
   ]
  },
  {
   "cell_type": "markdown",
   "id": "a16f6724",
   "metadata": {},
   "source": [
    "Standard deviation of goals scored has also been deceeasing over time"
   ]
  },
  {
   "cell_type": "code",
   "execution_count": 40,
   "id": "d3617c50",
   "metadata": {},
   "outputs": [
    {
     "data": {
      "text/plain": [
       "Text(0.5, 0.98, 'Month of the match played')"
      ]
     },
     "execution_count": 40,
     "metadata": {},
     "output_type": "execute_result"
    },
    {
     "data": {
      "image/png": "[encoded data removed]",
      "text/plain": [
       "<Figure size 432x288 with 1 Axes>"
      ]
     },
     "metadata": {
      "needs_background": "light"
     },
     "output_type": "display_data"
    }
   ],
   "source": [
    "df.groupby(['month'])['home_team'].count().plot.barh()\n",
    "plt.suptitle('Month of the match played',fontsize=15)"
   ]
  },
  {
   "cell_type": "markdown",
   "id": "27c9cf00",
   "metadata": {},
   "source": [
    "June is the most popular month, which makes sense as that is when most international tournaments are held (Euros, world cup). The rest of the year is mostly alloted to club soccer scheduling"
   ]
  },
  {
   "cell_type": "code",
   "execution_count": 41,
   "id": "e7537040",
   "metadata": {},
   "outputs": [
    {
     "data": {
      "text/plain": [
       "Text(0.5, 0.98, '# of matches played by Year')"
      ]
     },
     "execution_count": 41,
     "metadata": {},
     "output_type": "execute_result"
    },
    {
     "data": {
      "image/png": "[encoded data removed]",
      "text/plain": [
       "<Figure size 432x288 with 1 Axes>"
      ]
     },
     "metadata": {
      "needs_background": "light"
     },
     "output_type": "display_data"
    }
   ],
   "source": [
    "df.groupby('year').count().plot(y='home_team')\n",
    "plt.suptitle('# of matches played by Year',fontsize=15)"
   ]
  },
  {
   "cell_type": "code",
   "execution_count": 42,
   "id": "4d4e8bda",
   "metadata": {},
   "outputs": [
    {
     "data": {
      "text/plain": [
       "Text(0, 0.5, '')"
      ]
     },
     "execution_count": 42,
     "metadata": {},
     "output_type": "execute_result"
    },
    {
     "data": {
      "image/png": "[encoded data removed]",
      "text/plain": [
       "<Figure size 432x288 with 1 Axes>"
      ]
     },
     "metadata": {},
     "output_type": "display_data"
    }
   ],
   "source": [
    "df.groupby('tournament')['home_team'].count().nlargest(5).plot.pie()\n",
    "plt.suptitle('Top 5 tournaments',fontsize=15)\n",
    "plt.ylabel('')"
   ]
  },
  {
   "cell_type": "markdown",
   "id": "4f76c4f6",
   "metadata": {},
   "source": [
    "Friendlies form the largest share of matches played, followed by WC qualification"
   ]
  },
  {
   "cell_type": "code",
   "execution_count": 43,
   "id": "512bc823",
   "metadata": {
    "scrolled": true
   },
   "outputs": [
    {
     "data": {
      "text/html": [
       "<div>\n",
       "<style scoped>\n",
       "    .dataframe tbody tr th:only-of-type {\n",
       "        vertical-align: middle;\n",
       "    }\n",
       "\n",
       "    .dataframe tbody tr th {\n",
       "        vertical-align: top;\n",
       "    }\n",
       "\n",
       "    .dataframe thead th {\n",
       "        text-align: right;\n",
       "    }\n",
       "</style>\n",
       "<table border=\"1\" class=\"dataframe\">\n",
       "  <thead>\n",
       "    <tr style=\"text-align: right;\">\n",
       "      <th></th>\n",
       "      <th>Unnamed: 0</th>\n",
       "      <th>Continent</th>\n",
       "      <th>Country</th>\n",
       "    </tr>\n",
       "  </thead>\n",
       "  <tbody>\n",
       "    <tr>\n",
       "      <th>0</th>\n",
       "      <td>0</td>\n",
       "      <td>Africa</td>\n",
       "      <td>Algeria</td>\n",
       "    </tr>\n",
       "    <tr>\n",
       "      <th>1</th>\n",
       "      <td>1</td>\n",
       "      <td>Africa</td>\n",
       "      <td>Angola</td>\n",
       "    </tr>\n",
       "  </tbody>\n",
       "</table>\n",
       "</div>"
      ],
      "text/plain": [
       "   Unnamed: 0 Continent  Country\n",
       "0           0    Africa  Algeria\n",
       "1           1    Africa   Angola"
      ]
     },
     "execution_count": 43,
     "metadata": {},
     "output_type": "execute_result"
    }
   ],
   "source": [
    "countrydf.head(2) #this is the country dataset which will be appended to df"
   ]
  },
  {
   "cell_type": "code",
   "execution_count": 44,
   "id": "d034e259",
   "metadata": {},
   "outputs": [],
   "source": [
    "testdf=pd.merge(df,countrydf,left_on='WinCountry',right_on='Country',how='left') #create a temp df called test df and do a left merge with left on and right on as the column names are different"
   ]
  },
  {
   "cell_type": "code",
   "execution_count": 45,
   "id": "504b2edd",
   "metadata": {},
   "outputs": [],
   "source": [
    "testdf.drop('Unnamed: 0',axis=1,inplace=True) #drop unneeded colums"
   ]
  },
  {
   "cell_type": "code",
   "execution_count": 46,
   "id": "882597d0",
   "metadata": {},
   "outputs": [],
   "source": [
    "testdf.dropna(inplace=True) #drop NAs"
   ]
  },
  {
   "cell_type": "code",
   "execution_count": 47,
   "id": "36aefdde",
   "metadata": {},
   "outputs": [],
   "source": [
    "testdf.rename(columns={'Continent':'WinContinent'},inplace=True) #rename columns"
   ]
  },
  {
   "cell_type": "code",
   "execution_count": 48,
   "id": "2636c4b2",
   "metadata": {},
   "outputs": [
    {
     "data": {
      "text/html": [
       "<div>\n",
       "<style scoped>\n",
       "    .dataframe tbody tr th:only-of-type {\n",
       "        vertical-align: middle;\n",
       "    }\n",
       "\n",
       "    .dataframe tbody tr th {\n",
       "        vertical-align: top;\n",
       "    }\n",
       "\n",
       "    .dataframe thead th {\n",
       "        text-align: right;\n",
       "    }\n",
       "</style>\n",
       "<table border=\"1\" class=\"dataframe\">\n",
       "  <thead>\n",
       "    <tr style=\"text-align: right;\">\n",
       "      <th></th>\n",
       "      <th>home_team</th>\n",
       "      <th>away_team</th>\n",
       "      <th>home_score</th>\n",
       "      <th>away_score</th>\n",
       "      <th>tournament</th>\n",
       "      <th>city</th>\n",
       "      <th>country</th>\n",
       "      <th>neutral</th>\n",
       "      <th>winner</th>\n",
       "      <th>WinCountry</th>\n",
       "      <th>LoseCountry</th>\n",
       "      <th>year</th>\n",
       "      <th>month</th>\n",
       "      <th>diff_score</th>\n",
       "      <th>WinContinent</th>\n",
       "      <th>Country</th>\n",
       "    </tr>\n",
       "  </thead>\n",
       "  <tbody>\n",
       "    <tr>\n",
       "      <th>1</th>\n",
       "      <td>England</td>\n",
       "      <td>Scotland</td>\n",
       "      <td>4</td>\n",
       "      <td>2</td>\n",
       "      <td>Friendly</td>\n",
       "      <td>London</td>\n",
       "      <td>England</td>\n",
       "      <td>False</td>\n",
       "      <td>H</td>\n",
       "      <td>England</td>\n",
       "      <td>Scotland</td>\n",
       "      <td>1873</td>\n",
       "      <td>3</td>\n",
       "      <td>2</td>\n",
       "      <td>Europe</td>\n",
       "      <td>England</td>\n",
       "    </tr>\n",
       "    <tr>\n",
       "      <th>2</th>\n",
       "      <td>Scotland</td>\n",
       "      <td>England</td>\n",
       "      <td>2</td>\n",
       "      <td>1</td>\n",
       "      <td>Friendly</td>\n",
       "      <td>Glasgow</td>\n",
       "      <td>Scotland</td>\n",
       "      <td>False</td>\n",
       "      <td>H</td>\n",
       "      <td>Scotland</td>\n",
       "      <td>England</td>\n",
       "      <td>1874</td>\n",
       "      <td>3</td>\n",
       "      <td>1</td>\n",
       "      <td>Europe</td>\n",
       "      <td>Scotland</td>\n",
       "    </tr>\n",
       "  </tbody>\n",
       "</table>\n",
       "</div>"
      ],
      "text/plain": [
       "  home_team away_team  home_score  away_score tournament     city   country  \\\n",
       "1   England  Scotland           4           2   Friendly   London   England   \n",
       "2  Scotland   England           2           1   Friendly  Glasgow  Scotland   \n",
       "\n",
       "   neutral winner WinCountry LoseCountry  year  month  diff_score  \\\n",
       "1    False      H    England    Scotland  1873      3           2   \n",
       "2    False      H   Scotland     England  1874      3           1   \n",
       "\n",
       "  WinContinent   Country  \n",
       "1       Europe   England  \n",
       "2       Europe  Scotland  "
      ]
     },
     "execution_count": 48,
     "metadata": {},
     "output_type": "execute_result"
    }
   ],
   "source": [
    "testdf.head(2)"
   ]
  },
  {
   "cell_type": "code",
   "execution_count": 49,
   "id": "5124ecc3",
   "metadata": {},
   "outputs": [],
   "source": [
    "newdf=pd.merge(testdf,countrydf,left_on='LoseCountry',right_on='Country',how='left') #create another temp dataset for the losing continent"
   ]
  },
  {
   "cell_type": "code",
   "execution_count": 50,
   "id": "a9ab7fdd",
   "metadata": {},
   "outputs": [],
   "source": [
    "newdf.rename(columns={'Continent':'LoseContinent'},inplace=True)"
   ]
  },
  {
   "cell_type": "code",
   "execution_count": 51,
   "id": "06906aec",
   "metadata": {},
   "outputs": [
    {
     "data": {
      "text/html": [
       "<div>\n",
       "<style scoped>\n",
       "    .dataframe tbody tr th:only-of-type {\n",
       "        vertical-align: middle;\n",
       "    }\n",
       "\n",
       "    .dataframe tbody tr th {\n",
       "        vertical-align: top;\n",
       "    }\n",
       "\n",
       "    .dataframe thead th {\n",
       "        text-align: right;\n",
       "    }\n",
       "</style>\n",
       "<table border=\"1\" class=\"dataframe\">\n",
       "  <thead>\n",
       "    <tr style=\"text-align: right;\">\n",
       "      <th></th>\n",
       "      <th>home_team</th>\n",
       "      <th>away_team</th>\n",
       "      <th>home_score</th>\n",
       "      <th>away_score</th>\n",
       "      <th>tournament</th>\n",
       "      <th>city</th>\n",
       "      <th>country</th>\n",
       "      <th>neutral</th>\n",
       "      <th>winner</th>\n",
       "      <th>WinCountry</th>\n",
       "      <th>LoseCountry</th>\n",
       "      <th>year</th>\n",
       "      <th>month</th>\n",
       "      <th>diff_score</th>\n",
       "      <th>WinContinent</th>\n",
       "      <th>Country_x</th>\n",
       "      <th>Unnamed: 0</th>\n",
       "      <th>LoseContinent</th>\n",
       "      <th>Country_y</th>\n",
       "    </tr>\n",
       "  </thead>\n",
       "  <tbody>\n",
       "    <tr>\n",
       "      <th>0</th>\n",
       "      <td>England</td>\n",
       "      <td>Scotland</td>\n",
       "      <td>4</td>\n",
       "      <td>2</td>\n",
       "      <td>Friendly</td>\n",
       "      <td>London</td>\n",
       "      <td>England</td>\n",
       "      <td>False</td>\n",
       "      <td>H</td>\n",
       "      <td>England</td>\n",
       "      <td>Scotland</td>\n",
       "      <td>1873</td>\n",
       "      <td>3</td>\n",
       "      <td>2</td>\n",
       "      <td>Europe</td>\n",
       "      <td>England</td>\n",
       "      <td>195.0</td>\n",
       "      <td>Europe</td>\n",
       "      <td>Scotland</td>\n",
       "    </tr>\n",
       "    <tr>\n",
       "      <th>1</th>\n",
       "      <td>Scotland</td>\n",
       "      <td>England</td>\n",
       "      <td>2</td>\n",
       "      <td>1</td>\n",
       "      <td>Friendly</td>\n",
       "      <td>Glasgow</td>\n",
       "      <td>Scotland</td>\n",
       "      <td>False</td>\n",
       "      <td>H</td>\n",
       "      <td>Scotland</td>\n",
       "      <td>England</td>\n",
       "      <td>1874</td>\n",
       "      <td>3</td>\n",
       "      <td>1</td>\n",
       "      <td>Europe</td>\n",
       "      <td>Scotland</td>\n",
       "      <td>194.0</td>\n",
       "      <td>Europe</td>\n",
       "      <td>England</td>\n",
       "    </tr>\n",
       "  </tbody>\n",
       "</table>\n",
       "</div>"
      ],
      "text/plain": [
       "  home_team away_team  home_score  away_score tournament     city   country  \\\n",
       "0   England  Scotland           4           2   Friendly   London   England   \n",
       "1  Scotland   England           2           1   Friendly  Glasgow  Scotland   \n",
       "\n",
       "   neutral winner WinCountry LoseCountry  year  month  diff_score  \\\n",
       "0    False      H    England    Scotland  1873      3           2   \n",
       "1    False      H   Scotland     England  1874      3           1   \n",
       "\n",
       "  WinContinent Country_x  Unnamed: 0 LoseContinent Country_y  \n",
       "0       Europe   England       195.0        Europe  Scotland  \n",
       "1       Europe  Scotland       194.0        Europe   England  "
      ]
     },
     "execution_count": 51,
     "metadata": {},
     "output_type": "execute_result"
    }
   ],
   "source": [
    "newdf.head(2)"
   ]
  },
  {
   "cell_type": "code",
   "execution_count": 52,
   "id": "c04e7ffa",
   "metadata": {
    "scrolled": true
   },
   "outputs": [],
   "source": [
    "intercontinental=newdf.loc[newdf['WinContinent']!=newdf['LoseContinent']] #create intercontinental in which win continent not equal to lose continent"
   ]
  },
  {
   "cell_type": "code",
   "execution_count": 53,
   "id": "24723554",
   "metadata": {},
   "outputs": [
    {
     "name": "stderr",
     "output_type": "stream",
     "text": [
      "/var/folders/dv/wd_fn1ws4l18t7p_tt04f3d00000gn/T/ipykernel_9739/101272904.py:1: SettingWithCopyWarning: \n",
      "A value is trying to be set on a copy of a slice from a DataFrame\n",
      "\n",
      "See the caveats in the documentation: https://pandas.pydata.org/pandas-docs/stable/user_guide/indexing.html#returning-a-view-versus-a-copy\n",
      "  intercontinental.dropna(inplace=True)\n"
     ]
    }
   ],
   "source": [
    "intercontinental.dropna(inplace=True)"
   ]
  },
  {
   "cell_type": "code",
   "execution_count": 54,
   "id": "355703bf",
   "metadata": {},
   "outputs": [
    {
     "data": {
      "text/html": [
       "<div>\n",
       "<style scoped>\n",
       "    .dataframe tbody tr th:only-of-type {\n",
       "        vertical-align: middle;\n",
       "    }\n",
       "\n",
       "    .dataframe tbody tr th {\n",
       "        vertical-align: top;\n",
       "    }\n",
       "\n",
       "    .dataframe thead th {\n",
       "        text-align: right;\n",
       "    }\n",
       "</style>\n",
       "<table border=\"1\" class=\"dataframe\">\n",
       "  <thead>\n",
       "    <tr style=\"text-align: right;\">\n",
       "      <th></th>\n",
       "      <th>home_team</th>\n",
       "      <th>away_team</th>\n",
       "      <th>home_score</th>\n",
       "      <th>away_score</th>\n",
       "      <th>tournament</th>\n",
       "      <th>city</th>\n",
       "      <th>country</th>\n",
       "      <th>neutral</th>\n",
       "      <th>winner</th>\n",
       "      <th>WinCountry</th>\n",
       "      <th>LoseCountry</th>\n",
       "      <th>year</th>\n",
       "      <th>month</th>\n",
       "      <th>diff_score</th>\n",
       "      <th>WinContinent</th>\n",
       "      <th>Country_x</th>\n",
       "      <th>Unnamed: 0</th>\n",
       "      <th>LoseContinent</th>\n",
       "      <th>Country_y</th>\n",
       "    </tr>\n",
       "  </thead>\n",
       "  <tbody>\n",
       "    <tr>\n",
       "      <th>53</th>\n",
       "      <td>Scotland</td>\n",
       "      <td>Canada</td>\n",
       "      <td>4</td>\n",
       "      <td>0</td>\n",
       "      <td>Friendly</td>\n",
       "      <td>Glasgow</td>\n",
       "      <td>Scotland</td>\n",
       "      <td>False</td>\n",
       "      <td>H</td>\n",
       "      <td>Scotland</td>\n",
       "      <td>Canada</td>\n",
       "      <td>1888</td>\n",
       "      <td>9</td>\n",
       "      <td>4</td>\n",
       "      <td>Europe</td>\n",
       "      <td>Scotland</td>\n",
       "      <td>149.0</td>\n",
       "      <td>North America</td>\n",
       "      <td>Canada</td>\n",
       "    </tr>\n",
       "    <tr>\n",
       "      <th>463</th>\n",
       "      <td>Canada</td>\n",
       "      <td>Scotland</td>\n",
       "      <td>0</td>\n",
       "      <td>1</td>\n",
       "      <td>Friendly</td>\n",
       "      <td>Montréal</td>\n",
       "      <td>Canada</td>\n",
       "      <td>False</td>\n",
       "      <td>A</td>\n",
       "      <td>Scotland</td>\n",
       "      <td>Canada</td>\n",
       "      <td>1921</td>\n",
       "      <td>7</td>\n",
       "      <td>1</td>\n",
       "      <td>Europe</td>\n",
       "      <td>Scotland</td>\n",
       "      <td>149.0</td>\n",
       "      <td>North America</td>\n",
       "      <td>Canada</td>\n",
       "    </tr>\n",
       "  </tbody>\n",
       "</table>\n",
       "</div>"
      ],
      "text/plain": [
       "    home_team away_team  home_score  away_score tournament      city  \\\n",
       "53   Scotland    Canada           4           0   Friendly   Glasgow   \n",
       "463    Canada  Scotland           0           1   Friendly  Montréal   \n",
       "\n",
       "      country  neutral winner WinCountry LoseCountry  year  month  diff_score  \\\n",
       "53   Scotland    False      H   Scotland      Canada  1888      9           4   \n",
       "463    Canada    False      A   Scotland      Canada  1921      7           1   \n",
       "\n",
       "    WinContinent Country_x  Unnamed: 0  LoseContinent Country_y  \n",
       "53        Europe  Scotland       149.0  North America    Canada  \n",
       "463       Europe  Scotland       149.0  North America    Canada  "
      ]
     },
     "execution_count": 54,
     "metadata": {},
     "output_type": "execute_result"
    }
   ],
   "source": [
    "intercontinental.head(2)"
   ]
  },
  {
   "cell_type": "markdown",
   "id": "482559e1",
   "metadata": {},
   "source": [
    "### Intercontinental Matchups"
   ]
  },
  {
   "cell_type": "code",
   "execution_count": 55,
   "id": "1432eec0",
   "metadata": {},
   "outputs": [
    {
     "data": {
      "text/plain": [
       "WinContinent   LoseContinent\n",
       "Africa         Asia             214\n",
       "               Europe           138\n",
       "               North America     34\n",
       "               Oceania           23\n",
       "               South America     20\n",
       "Asia           Africa           220\n",
       "               Europe           391\n",
       "               North America     57\n",
       "               Oceania           77\n",
       "               South America     33\n",
       "Europe         Africa           229\n",
       "               Asia             645\n",
       "               North America    195\n",
       "               Oceania           50\n",
       "               South America    259\n",
       "North America  Africa            28\n",
       "               Asia              40\n",
       "               Europe            81\n",
       "               Oceania           18\n",
       "               South America    327\n",
       "Oceania        Africa            20\n",
       "               Asia             136\n",
       "               Europe            22\n",
       "               North America     14\n",
       "               South America      7\n",
       "South America  Africa            89\n",
       "               Asia             115\n",
       "               Europe           343\n",
       "               North America    422\n",
       "               Oceania           34\n",
       "Name: home_team, dtype: int64"
      ]
     },
     "execution_count": 55,
     "metadata": {},
     "output_type": "execute_result"
    }
   ],
   "source": [
    "intercontinental.groupby(['WinContinent','LoseContinent'])['home_team'].count()"
   ]
  },
  {
   "cell_type": "markdown",
   "id": "137f87d1",
   "metadata": {},
   "source": [
    "This table excludes Draws, and only captures match ups accross different continents. \n",
    "Europe and South America are powerhouses. Europe has defeated South American teams 259 times, while South America has defeated Europe 343 Times"
   ]
  },
  {
   "cell_type": "code",
   "execution_count": 56,
   "id": "4638d54b",
   "metadata": {},
   "outputs": [
    {
     "data": {
      "text/html": [
       "<div>\n",
       "<style scoped>\n",
       "    .dataframe tbody tr th:only-of-type {\n",
       "        vertical-align: middle;\n",
       "    }\n",
       "\n",
       "    .dataframe tbody tr th {\n",
       "        vertical-align: top;\n",
       "    }\n",
       "\n",
       "    .dataframe thead th {\n",
       "        text-align: right;\n",
       "    }\n",
       "</style>\n",
       "<table border=\"1\" class=\"dataframe\">\n",
       "  <thead>\n",
       "    <tr style=\"text-align: right;\">\n",
       "      <th>LoseContinent</th>\n",
       "      <th>Africa</th>\n",
       "      <th>Asia</th>\n",
       "      <th>Europe</th>\n",
       "      <th>North America</th>\n",
       "      <th>Oceania</th>\n",
       "      <th>South America</th>\n",
       "    </tr>\n",
       "    <tr>\n",
       "      <th>WinContinent</th>\n",
       "      <th></th>\n",
       "      <th></th>\n",
       "      <th></th>\n",
       "      <th></th>\n",
       "      <th></th>\n",
       "      <th></th>\n",
       "    </tr>\n",
       "  </thead>\n",
       "  <tbody>\n",
       "    <tr>\n",
       "      <th>Africa</th>\n",
       "      <td>NaN</td>\n",
       "      <td>214.0</td>\n",
       "      <td>138.0</td>\n",
       "      <td>34.0</td>\n",
       "      <td>23.0</td>\n",
       "      <td>20.0</td>\n",
       "    </tr>\n",
       "    <tr>\n",
       "      <th>Asia</th>\n",
       "      <td>220.0</td>\n",
       "      <td>NaN</td>\n",
       "      <td>391.0</td>\n",
       "      <td>57.0</td>\n",
       "      <td>77.0</td>\n",
       "      <td>33.0</td>\n",
       "    </tr>\n",
       "    <tr>\n",
       "      <th>Europe</th>\n",
       "      <td>229.0</td>\n",
       "      <td>645.0</td>\n",
       "      <td>NaN</td>\n",
       "      <td>195.0</td>\n",
       "      <td>50.0</td>\n",
       "      <td>259.0</td>\n",
       "    </tr>\n",
       "    <tr>\n",
       "      <th>North America</th>\n",
       "      <td>28.0</td>\n",
       "      <td>40.0</td>\n",
       "      <td>81.0</td>\n",
       "      <td>NaN</td>\n",
       "      <td>18.0</td>\n",
       "      <td>327.0</td>\n",
       "    </tr>\n",
       "    <tr>\n",
       "      <th>Oceania</th>\n",
       "      <td>20.0</td>\n",
       "      <td>136.0</td>\n",
       "      <td>22.0</td>\n",
       "      <td>14.0</td>\n",
       "      <td>NaN</td>\n",
       "      <td>7.0</td>\n",
       "    </tr>\n",
       "    <tr>\n",
       "      <th>South America</th>\n",
       "      <td>89.0</td>\n",
       "      <td>115.0</td>\n",
       "      <td>343.0</td>\n",
       "      <td>422.0</td>\n",
       "      <td>34.0</td>\n",
       "      <td>NaN</td>\n",
       "    </tr>\n",
       "  </tbody>\n",
       "</table>\n",
       "</div>"
      ],
      "text/plain": [
       "LoseContinent  Africa   Asia  Europe  North America  Oceania  South America\n",
       "WinContinent                                                               \n",
       "Africa            NaN  214.0   138.0           34.0     23.0           20.0\n",
       "Asia            220.0    NaN   391.0           57.0     77.0           33.0\n",
       "Europe          229.0  645.0     NaN          195.0     50.0          259.0\n",
       "North America    28.0   40.0    81.0            NaN     18.0          327.0\n",
       "Oceania          20.0  136.0    22.0           14.0      NaN            7.0\n",
       "South America    89.0  115.0   343.0          422.0     34.0            NaN"
      ]
     },
     "execution_count": 56,
     "metadata": {},
     "output_type": "execute_result"
    }
   ],
   "source": [
    "#another way to do this is using a pivot table\n",
    "pd.pivot_table(intercontinental,index='WinContinent',columns='LoseContinent',values='year',aggfunc='count')"
   ]
  },
  {
   "cell_type": "code",
   "execution_count": 57,
   "id": "dc9443f1",
   "metadata": {},
   "outputs": [
    {
     "data": {
      "text/html": [
       "<div>\n",
       "<style scoped>\n",
       "    .dataframe tbody tr th:only-of-type {\n",
       "        vertical-align: middle;\n",
       "    }\n",
       "\n",
       "    .dataframe tbody tr th {\n",
       "        vertical-align: top;\n",
       "    }\n",
       "\n",
       "    .dataframe thead th {\n",
       "        text-align: right;\n",
       "    }\n",
       "</style>\n",
       "<table border=\"1\" class=\"dataframe\">\n",
       "  <thead>\n",
       "    <tr style=\"text-align: right;\">\n",
       "      <th></th>\n",
       "      <th>home_team</th>\n",
       "      <th>away_team</th>\n",
       "      <th>home_score</th>\n",
       "      <th>away_score</th>\n",
       "      <th>tournament</th>\n",
       "      <th>city</th>\n",
       "      <th>country</th>\n",
       "      <th>neutral</th>\n",
       "      <th>winner</th>\n",
       "      <th>WinCountry</th>\n",
       "      <th>LoseCountry</th>\n",
       "      <th>year</th>\n",
       "      <th>month</th>\n",
       "      <th>diff_score</th>\n",
       "    </tr>\n",
       "    <tr>\n",
       "      <th>date</th>\n",
       "      <th></th>\n",
       "      <th></th>\n",
       "      <th></th>\n",
       "      <th></th>\n",
       "      <th></th>\n",
       "      <th></th>\n",
       "      <th></th>\n",
       "      <th></th>\n",
       "      <th></th>\n",
       "      <th></th>\n",
       "      <th></th>\n",
       "      <th></th>\n",
       "      <th></th>\n",
       "      <th></th>\n",
       "    </tr>\n",
       "  </thead>\n",
       "  <tbody>\n",
       "    <tr>\n",
       "      <th>1872-11-30</th>\n",
       "      <td>Scotland</td>\n",
       "      <td>England</td>\n",
       "      <td>0</td>\n",
       "      <td>0</td>\n",
       "      <td>Friendly</td>\n",
       "      <td>Glasgow</td>\n",
       "      <td>Scotland</td>\n",
       "      <td>False</td>\n",
       "      <td>D</td>\n",
       "      <td>D</td>\n",
       "      <td>D</td>\n",
       "      <td>1872</td>\n",
       "      <td>11</td>\n",
       "      <td>0</td>\n",
       "    </tr>\n",
       "    <tr>\n",
       "      <th>1873-03-08</th>\n",
       "      <td>England</td>\n",
       "      <td>Scotland</td>\n",
       "      <td>4</td>\n",
       "      <td>2</td>\n",
       "      <td>Friendly</td>\n",
       "      <td>London</td>\n",
       "      <td>England</td>\n",
       "      <td>False</td>\n",
       "      <td>H</td>\n",
       "      <td>England</td>\n",
       "      <td>Scotland</td>\n",
       "      <td>1873</td>\n",
       "      <td>3</td>\n",
       "      <td>2</td>\n",
       "    </tr>\n",
       "  </tbody>\n",
       "</table>\n",
       "</div>"
      ],
      "text/plain": [
       "           home_team away_team  home_score  away_score tournament     city  \\\n",
       "date                                                                         \n",
       "1872-11-30  Scotland   England           0           0   Friendly  Glasgow   \n",
       "1873-03-08   England  Scotland           4           2   Friendly   London   \n",
       "\n",
       "             country  neutral winner WinCountry LoseCountry  year  month  \\\n",
       "date                                                                       \n",
       "1872-11-30  Scotland    False      D          D           D  1872     11   \n",
       "1873-03-08   England    False      H    England    Scotland  1873      3   \n",
       "\n",
       "            diff_score  \n",
       "date                    \n",
       "1872-11-30           0  \n",
       "1873-03-08           2  "
      ]
     },
     "execution_count": 57,
     "metadata": {},
     "output_type": "execute_result"
    }
   ],
   "source": [
    "df.head(2)"
   ]
  },
  {
   "cell_type": "markdown",
   "id": "a2ea489a",
   "metadata": {},
   "source": [
    "Or operator is used as |. Here is the. syntax for England being home OR away team, AND tournament is World Cup"
   ]
  },
  {
   "cell_type": "code",
   "execution_count": 58,
   "id": "c8642a40",
   "metadata": {},
   "outputs": [
    {
     "data": {
      "text/html": [
       "<div>\n",
       "<style scoped>\n",
       "    .dataframe tbody tr th:only-of-type {\n",
       "        vertical-align: middle;\n",
       "    }\n",
       "\n",
       "    .dataframe tbody tr th {\n",
       "        vertical-align: top;\n",
       "    }\n",
       "\n",
       "    .dataframe thead th {\n",
       "        text-align: right;\n",
       "    }\n",
       "</style>\n",
       "<table border=\"1\" class=\"dataframe\">\n",
       "  <thead>\n",
       "    <tr style=\"text-align: right;\">\n",
       "      <th></th>\n",
       "      <th>home_team</th>\n",
       "      <th>away_team</th>\n",
       "      <th>home_score</th>\n",
       "      <th>away_score</th>\n",
       "      <th>tournament</th>\n",
       "      <th>city</th>\n",
       "      <th>country</th>\n",
       "      <th>neutral</th>\n",
       "      <th>winner</th>\n",
       "      <th>WinCountry</th>\n",
       "      <th>LoseCountry</th>\n",
       "      <th>year</th>\n",
       "      <th>month</th>\n",
       "      <th>diff_score</th>\n",
       "    </tr>\n",
       "    <tr>\n",
       "      <th>date</th>\n",
       "      <th></th>\n",
       "      <th></th>\n",
       "      <th></th>\n",
       "      <th></th>\n",
       "      <th></th>\n",
       "      <th></th>\n",
       "      <th></th>\n",
       "      <th></th>\n",
       "      <th></th>\n",
       "      <th></th>\n",
       "      <th></th>\n",
       "      <th></th>\n",
       "      <th></th>\n",
       "      <th></th>\n",
       "    </tr>\n",
       "  </thead>\n",
       "  <tbody>\n",
       "    <tr>\n",
       "      <th>1950-06-25</th>\n",
       "      <td>Chile</td>\n",
       "      <td>England</td>\n",
       "      <td>0</td>\n",
       "      <td>2</td>\n",
       "      <td>FIFA World Cup</td>\n",
       "      <td>Rio de Janeiro</td>\n",
       "      <td>Brazil</td>\n",
       "      <td>True</td>\n",
       "      <td>A</td>\n",
       "      <td>England</td>\n",
       "      <td>Chile</td>\n",
       "      <td>1950</td>\n",
       "      <td>6</td>\n",
       "      <td>2</td>\n",
       "    </tr>\n",
       "    <tr>\n",
       "      <th>1950-06-29</th>\n",
       "      <td>England</td>\n",
       "      <td>United States</td>\n",
       "      <td>0</td>\n",
       "      <td>1</td>\n",
       "      <td>FIFA World Cup</td>\n",
       "      <td>Belo Horizonte</td>\n",
       "      <td>Brazil</td>\n",
       "      <td>True</td>\n",
       "      <td>A</td>\n",
       "      <td>United States</td>\n",
       "      <td>England</td>\n",
       "      <td>1950</td>\n",
       "      <td>6</td>\n",
       "      <td>1</td>\n",
       "    </tr>\n",
       "    <tr>\n",
       "      <th>1950-07-02</th>\n",
       "      <td>England</td>\n",
       "      <td>Spain</td>\n",
       "      <td>0</td>\n",
       "      <td>1</td>\n",
       "      <td>FIFA World Cup</td>\n",
       "      <td>Rio de Janeiro</td>\n",
       "      <td>Brazil</td>\n",
       "      <td>True</td>\n",
       "      <td>A</td>\n",
       "      <td>Spain</td>\n",
       "      <td>England</td>\n",
       "      <td>1950</td>\n",
       "      <td>7</td>\n",
       "      <td>1</td>\n",
       "    </tr>\n",
       "    <tr>\n",
       "      <th>1954-06-17</th>\n",
       "      <td>Belgium</td>\n",
       "      <td>England</td>\n",
       "      <td>4</td>\n",
       "      <td>4</td>\n",
       "      <td>FIFA World Cup</td>\n",
       "      <td>Basel</td>\n",
       "      <td>Switzerland</td>\n",
       "      <td>True</td>\n",
       "      <td>D</td>\n",
       "      <td>D</td>\n",
       "      <td>D</td>\n",
       "      <td>1954</td>\n",
       "      <td>6</td>\n",
       "      <td>0</td>\n",
       "    </tr>\n",
       "    <tr>\n",
       "      <th>1954-06-20</th>\n",
       "      <td>Switzerland</td>\n",
       "      <td>England</td>\n",
       "      <td>0</td>\n",
       "      <td>2</td>\n",
       "      <td>FIFA World Cup</td>\n",
       "      <td>Berne</td>\n",
       "      <td>Switzerland</td>\n",
       "      <td>False</td>\n",
       "      <td>A</td>\n",
       "      <td>England</td>\n",
       "      <td>Switzerland</td>\n",
       "      <td>1954</td>\n",
       "      <td>6</td>\n",
       "      <td>2</td>\n",
       "    </tr>\n",
       "    <tr>\n",
       "      <th>...</th>\n",
       "      <td>...</td>\n",
       "      <td>...</td>\n",
       "      <td>...</td>\n",
       "      <td>...</td>\n",
       "      <td>...</td>\n",
       "      <td>...</td>\n",
       "      <td>...</td>\n",
       "      <td>...</td>\n",
       "      <td>...</td>\n",
       "      <td>...</td>\n",
       "      <td>...</td>\n",
       "      <td>...</td>\n",
       "      <td>...</td>\n",
       "      <td>...</td>\n",
       "    </tr>\n",
       "    <tr>\n",
       "      <th>2018-06-28</th>\n",
       "      <td>England</td>\n",
       "      <td>Belgium</td>\n",
       "      <td>0</td>\n",
       "      <td>1</td>\n",
       "      <td>FIFA World Cup</td>\n",
       "      <td>Kaliningrad</td>\n",
       "      <td>Russia</td>\n",
       "      <td>True</td>\n",
       "      <td>A</td>\n",
       "      <td>Belgium</td>\n",
       "      <td>England</td>\n",
       "      <td>2018</td>\n",
       "      <td>6</td>\n",
       "      <td>1</td>\n",
       "    </tr>\n",
       "    <tr>\n",
       "      <th>2018-07-03</th>\n",
       "      <td>Colombia</td>\n",
       "      <td>England</td>\n",
       "      <td>1</td>\n",
       "      <td>1</td>\n",
       "      <td>FIFA World Cup</td>\n",
       "      <td>Moscow</td>\n",
       "      <td>Russia</td>\n",
       "      <td>True</td>\n",
       "      <td>D</td>\n",
       "      <td>D</td>\n",
       "      <td>D</td>\n",
       "      <td>2018</td>\n",
       "      <td>7</td>\n",
       "      <td>0</td>\n",
       "    </tr>\n",
       "    <tr>\n",
       "      <th>2018-07-07</th>\n",
       "      <td>Sweden</td>\n",
       "      <td>England</td>\n",
       "      <td>0</td>\n",
       "      <td>2</td>\n",
       "      <td>FIFA World Cup</td>\n",
       "      <td>Samara</td>\n",
       "      <td>Russia</td>\n",
       "      <td>True</td>\n",
       "      <td>A</td>\n",
       "      <td>England</td>\n",
       "      <td>Sweden</td>\n",
       "      <td>2018</td>\n",
       "      <td>7</td>\n",
       "      <td>2</td>\n",
       "    </tr>\n",
       "    <tr>\n",
       "      <th>2018-07-11</th>\n",
       "      <td>Croatia</td>\n",
       "      <td>England</td>\n",
       "      <td>2</td>\n",
       "      <td>1</td>\n",
       "      <td>FIFA World Cup</td>\n",
       "      <td>Moscow</td>\n",
       "      <td>Russia</td>\n",
       "      <td>True</td>\n",
       "      <td>H</td>\n",
       "      <td>Croatia</td>\n",
       "      <td>England</td>\n",
       "      <td>2018</td>\n",
       "      <td>7</td>\n",
       "      <td>1</td>\n",
       "    </tr>\n",
       "    <tr>\n",
       "      <th>2018-07-14</th>\n",
       "      <td>Belgium</td>\n",
       "      <td>England</td>\n",
       "      <td>2</td>\n",
       "      <td>0</td>\n",
       "      <td>FIFA World Cup</td>\n",
       "      <td>Saint Petersburg</td>\n",
       "      <td>Russia</td>\n",
       "      <td>True</td>\n",
       "      <td>H</td>\n",
       "      <td>Belgium</td>\n",
       "      <td>England</td>\n",
       "      <td>2018</td>\n",
       "      <td>7</td>\n",
       "      <td>2</td>\n",
       "    </tr>\n",
       "  </tbody>\n",
       "</table>\n",
       "<p>69 rows × 14 columns</p>\n",
       "</div>"
      ],
      "text/plain": [
       "              home_team      away_team  home_score  away_score  \\\n",
       "date                                                             \n",
       "1950-06-25        Chile        England           0           2   \n",
       "1950-06-29      England  United States           0           1   \n",
       "1950-07-02      England          Spain           0           1   \n",
       "1954-06-17      Belgium        England           4           4   \n",
       "1954-06-20  Switzerland        England           0           2   \n",
       "...                 ...            ...         ...         ...   \n",
       "2018-06-28      England        Belgium           0           1   \n",
       "2018-07-03     Colombia        England           1           1   \n",
       "2018-07-07       Sweden        England           0           2   \n",
       "2018-07-11      Croatia        England           2           1   \n",
       "2018-07-14      Belgium        England           2           0   \n",
       "\n",
       "                tournament              city      country  neutral winner  \\\n",
       "date                                                                        \n",
       "1950-06-25  FIFA World Cup    Rio de Janeiro       Brazil     True      A   \n",
       "1950-06-29  FIFA World Cup    Belo Horizonte       Brazil     True      A   \n",
       "1950-07-02  FIFA World Cup    Rio de Janeiro       Brazil     True      A   \n",
       "1954-06-17  FIFA World Cup             Basel  Switzerland     True      D   \n",
       "1954-06-20  FIFA World Cup             Berne  Switzerland    False      A   \n",
       "...                    ...               ...          ...      ...    ...   \n",
       "2018-06-28  FIFA World Cup       Kaliningrad       Russia     True      A   \n",
       "2018-07-03  FIFA World Cup            Moscow       Russia     True      D   \n",
       "2018-07-07  FIFA World Cup            Samara       Russia     True      A   \n",
       "2018-07-11  FIFA World Cup            Moscow       Russia     True      H   \n",
       "2018-07-14  FIFA World Cup  Saint Petersburg       Russia     True      H   \n",
       "\n",
       "               WinCountry  LoseCountry  year  month  diff_score  \n",
       "date                                                             \n",
       "1950-06-25        England        Chile  1950      6           2  \n",
       "1950-06-29  United States      England  1950      6           1  \n",
       "1950-07-02          Spain      England  1950      7           1  \n",
       "1954-06-17              D            D  1954      6           0  \n",
       "1954-06-20        England  Switzerland  1954      6           2  \n",
       "...                   ...          ...   ...    ...         ...  \n",
       "2018-06-28        Belgium      England  2018      6           1  \n",
       "2018-07-03              D            D  2018      7           0  \n",
       "2018-07-07        England       Sweden  2018      7           2  \n",
       "2018-07-11        Croatia      England  2018      7           1  \n",
       "2018-07-14        Belgium      England  2018      7           2  \n",
       "\n",
       "[69 rows x 14 columns]"
      ]
     },
     "execution_count": 58,
     "metadata": {},
     "output_type": "execute_result"
    }
   ],
   "source": [
    "df[((df['home_team']=='England') | (df['away_team']=='England')) & (df['tournament']=='FIFA World Cup')]"
   ]
  },
  {
   "cell_type": "code",
   "execution_count": null,
   "id": "8dfba240",
   "metadata": {},
   "outputs": [],
   "source": []
  }
 ],
 "metadata": {
  "kernelspec": {
   "display_name": "Python 3 (ipykernel)",
   "language": "python",
   "name": "python3"
  },
  "language_info": {
   "codemirror_mode": {
    "name": "ipython",
    "version": 3
   },
   "file_extension": ".py",
   "mimetype": "text/x-python",
   "name": "python",
   "nbconvert_exporter": "python",
   "pygments_lexer": "ipython3",
   "version": "3.9.12"
  }
 },
 "nbformat": 4,
 "nbformat_minor": 5
}
